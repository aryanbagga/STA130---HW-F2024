{
 "cells": [
  {
   "cell_type": "markdown",
   "id": "14b74968",
   "metadata": {},
   "source": [
    "# STA130 TUT 02 (Sep13)<br><br> 👨‍💻 👩🏻‍💻 <u>Coding with data types, for loops, and logical control<u>\n"
   ]
  },
  {
   "cell_type": "markdown",
   "id": "9047160dfd885818",
   "metadata": {},
   "source": [
    "\n",
    "## ♻️ 📚 Review / Questions [10 minutes]\n",
    "1. Follow up questions and clarifications regarding regarding **notebooks, markdown, ChatBots, or `Python` code** previously introduced in the Sep06 TUT and Sep09 LEC \n",
    "\n",
    "> 1. We're continuing to dive into using **notebooks, markdown**, and `Python` as a tool: building comfort and capability working with **ChatBots** to leverage `Python` code is the objective of the current phase of the course...<br><br>\n",
    ">\n",
    "> 2. *Questions about [HW01](https://github.com/pointOfive/stat130chat130/blob/main/HW/STA130F24_HW01_DueSep12.ipynb) which was due yesterday (Thursday Sep12) should be asked in OH from 4-6PM ET Tuesday, Wednesday, and Thursday (see the [Quercus course homepage](https://q.utoronto.ca/courses/354091) for further details)*<br><br>\n",
    "> \n",
    "> 3. *And same story, and even moreso for questions about [HW02](https://github.com/pointOfive/stat130chat130/blob/main/HW/STA130F24_HW02_DueSep19.ipynb) which was due next Thursday (Sep19) (e.g., regarding the \"pre-lecture\" questions...)*"
   ]
  },
  {
   "cell_type": "markdown",
   "id": "7b6f2d524b9e6c7e",
   "metadata": {},
   "source": [
    "## 🚧 🏗️ Demo (using Jupyter Notebook and ChatBots) [50 minutes]\n",
    "\n",
    "\n",
    "#### 1. **[35 of the 50 minutes]** Demonstrate (using a ChatBot to show and explain?) some traditional `python` coding structures\n",
    "\n",
    "1. `tuple()`, `list()`, vs `dict()  # immutable and mutable \"lists\" vs key-value pairs`<br><br>\n",
    "    \n",
    "2. some `NumPy` functions:<br><br>\n",
    "    \n",
    "    1. `import numpy as np`\n",
    "    2. `np.array([1,2,3]) # a faster \"list\"`\n",
    "    3. `np.random.choice([1,2,3])`<br><br>\n",
    "        \n",
    "3. `for i in range(n):`, `for x in a_list:`, `for i,x in enumerate(a_list):`, and `print()`<br><br>\n",
    "    \n",
    "    1. `variable` as the last line of a \"code cell\" in a notebook \"prints\" the value\n",
    "    2. but `print()` is needed inside `for` loop if you want to output something<br><br>\n",
    "        \n",
    "4. `if`/`else` conditional statements<br><br> \n",
    "\n",
    "    1. perhaps with `x in b_list`<br>or `i % 2 == 0` to treat evens/odds differently  (sort of like the infamous \"FizzBuzz\" problem that some people [can't complete](https://www.quora.com/On-average-what-is-the-proportion-of-applicants-that-cannot-pass-a-simple-FizzBuzz-test-based-on-your-personal-experience-or-on-facts) as part of a coding interview challenge)\n",
    "    2. note the \"similarity\" to the `try-except` block structure when that's encountered in the code below since it's used there (despite being a \"more advanced\" \n",
    "        \n",
    "#### 2. **[5 of the 50 minutes]** Reintroduce the [Monty Hall problem](https://github.com/pointOfive/stat130chat130/blob/main/CHATLOG/wk2/GPT/SLS/00001_gpt3p5_MonteHall_ProblemExplanation_v1.md) and see which of the coding structures above you recognize (or do not see) in the Monty Hall simulation code below\n",
    "\n",
    "#### 3. **[10 of the 50 minutes]** Use any remaining time to start a demonstration of using a ChatBot to (a) understand what the code below is doing and (b) suggest an improved streamlined version of the `for` loop simulation code that might be easier to explain and understand\n",
    "    \n",
    "> ChatGPT version 3.5 [was very effective](https://github.com/pointOfive/stat130chat130/blob/main/CHATLOG/wk2/GPT/SLS/00003_gpt3p5_MonteHall_CodeDiscussion_v1.md) for (b), while Copilot was shockingly bad on a [first try](../CHATLOG/wk2/COP/SLS/00001_creative_MonteHall_CodeDiscussion_v1.md) but was able to do better [with some helpful guidance](https://github.com/pointOfive/stat130chat130/blob/main/CHATLOG/wk2/COP/SLS/00002_concise_MonteHall_CodeDiscussion_v2.md)."
   ]
  },
  {
   "cell_type": "markdown",
   "id": "60d43eb8",
   "metadata": {},
   "source": [
    "### 1) - Demo for Tuple, List vs Dict"
   ]
  },
  {
   "cell_type": "markdown",
   "id": "bcb49d5a",
   "metadata": {},
   "source": [
    "#### 1. Demo for Tuple()"
   ]
  },
  {
   "cell_type": "code",
   "execution_count": 1,
   "id": "20e8c519ed45cbfb",
   "metadata": {},
   "outputs": [
    {
     "name": "stdout",
     "output_type": "stream",
     "text": [
      "Created Tuple: (1, 'apple', 3.5)\n",
      "First Element: 1\n",
      "Last Element: 3.5\n",
      "Sliced Tuple (from index 1 to end): ('apple',)\n",
      "Unpacked Values: 1 apple 3.5\n",
      "Returned Tuple from Function: (10, 20)\n"
     ]
    }
   ],
   "source": [
    "# Cell to demo what the above code does\n",
    "# 1. Creating a tuple with mixed data types\n",
    "my_tuple = (1, \"apple\", 3.5)\n",
    "print(\"Created Tuple:\", my_tuple)\n",
    "\n",
    "# 2. Accessing Tuple Elements\n",
    "print(\"First Element:\", my_tuple[0])  # Accessing the first element\n",
    "print(\"Last Element:\", my_tuple[-1])  # Accessing the last element\n",
    "\n",
    "# 3. Tuple Slicing\n",
    "print(\"Sliced Tuple (from index 1 to end):\", my_tuple[1:2])\n",
    "\n",
    "# 4. Unpacking a Tuple\n",
    "a, b, c = my_tuple\n",
    "print(\"Unpacked Values:\", a, b, c)\n",
    "\n",
    "# 5. Tuples are Immutable (Uncomment to see the error)\n",
    "# my_tuple[0] = 10  # This will raise an error since tuples are immutable\n",
    "\n",
    "# 6. Using Tuples in Functions\n",
    "def get_coordinates():\n",
    "    return (10, 20)\n",
    "\n",
    "coordinates = get_coordinates()\n",
    "print(\"Returned Tuple from Function:\", coordinates)\n"
   ]
  },
  {
   "cell_type": "markdown",
   "id": "c6ad1a31",
   "metadata": {},
   "source": [
    "#### 2. Demo for List()"
   ]
  },
  {
   "cell_type": "code",
   "execution_count": 11,
   "id": "eff74342",
   "metadata": {},
   "outputs": [
    {
     "name": "stdout",
     "output_type": "stream",
     "text": [
      "Created List: [1, 'apple', 3.5]\n",
      "First Element: 1\n",
      "Last Element: 3.5\n",
      "Sliced List (from index 1 to end): ['apple', 3.5]\n",
      "Modified List: [100, 'apple', 3.5]\n",
      "List After Appending: [100, 'apple', 3.5, 'banana']\n",
      "List After Removing 'apple': [100, 3.5, 'banana']\n",
      "Doubled List: [200, 7.0]\n"
     ]
    }
   ],
   "source": [
    "# 1. Creating a List\n",
    "my_list = [1, \"apple\", 3.5]\n",
    "print(\"Created List:\", my_list)\n",
    "\n",
    "# 2. Accessing List Elements\n",
    "print(\"First Element:\", my_list[0])\n",
    "print(\"Last Element:\", my_list[-1])\n",
    "\n",
    "# 3. List Slicing\n",
    "print(\"Sliced List (from index 1 to end):\", my_list[1:])\n",
    "\n",
    "# 4. Modifying List Elements\n",
    "my_list[0] = 100\n",
    "print(\"Modified List:\", my_list)\n",
    "\n",
    "# 5. Appending and Removing Elements\n",
    "my_list.append(\"banana\")\n",
    "print(\"List After Appending:\", my_list)\n",
    "\n",
    "my_list.remove(\"apple\")\n",
    "print(\"List After Removing 'apple':\", my_list)\n",
    "\n",
    "# 6. Using Lists in Functions\n",
    "def double_elements(lst):\n",
    "    return [x * 2 for x in lst if isinstance(x, (int, float))]\n",
    "\n",
    "doubled_list = double_elements(my_list)\n",
    "print(\"Doubled List:\", doubled_list)\n",
    "\n",
    "\n"
   ]
  },
  {
   "cell_type": "markdown",
   "id": "5245df1a",
   "metadata": {},
   "source": [
    "#### 3. Demo for Dict()"
   ]
  },
  {
   "cell_type": "code",
   "execution_count": 12,
   "id": "58f70b99",
   "metadata": {},
   "outputs": [
    {
     "name": "stdout",
     "output_type": "stream",
     "text": [
      "Created Dictionary: {'name': 'Alice', 'age': 25, 'height': 5.5}\n",
      "Name: Alice\n",
      "Age: 25\n",
      "Modified Age: 26\n",
      "Dictionary After Adding 'city': {'name': 'Alice', 'age': 26, 'height': 5.5, 'city': 'Toronto'}\n",
      "Dictionary After Removing 'height': {'name': 'Alice', 'age': 26, 'city': 'Toronto'}\n",
      "Dictionary After Using del: {'name': 'Alice', 'age': 26}\n",
      "Key: name Value: Alice\n",
      "Key: age Value: 26\n",
      "name: Alice\n",
      "age: 26\n",
      "Updated Dictionary with New Age: {'name': 'Alice', 'age': 30}\n"
     ]
    }
   ],
   "source": [
    "# Add more code cells to keep a record of the demos\n",
    "# 1. Creating a Dictionary\n",
    "my_dict = {\n",
    "    \"name\": \"Alice\",\n",
    "    \"age\": 25,\n",
    "    \"height\": 5.5\n",
    "}\n",
    "print(\"Created Dictionary:\", my_dict)\n",
    "\n",
    "# 2. Accessing Dictionary Elements\n",
    "print(\"Name:\", my_dict[\"name\"])\n",
    "print(\"Age:\", my_dict[\"age\"])\n",
    "\n",
    "# 3. Modifying Dictionary Elements\n",
    "my_dict[\"age\"] = 26\n",
    "print(\"Modified Age:\", my_dict[\"age\"])\n",
    "\n",
    "my_dict[\"city\"] = \"Toronto\"\n",
    "print(\"Dictionary After Adding 'city':\", my_dict)\n",
    "\n",
    "# 4. Removing Elements from a Dictionary\n",
    "my_dict.pop(\"height\")\n",
    "print(\"Dictionary After Removing 'height':\", my_dict)\n",
    "\n",
    "del my_dict[\"city\"]\n",
    "print(\"Dictionary After Using del:\", my_dict)\n",
    "\n",
    "# 5. Iterating Over a Dictionary\n",
    "for key in my_dict:\n",
    "    print(\"Key:\", key, \"Value:\", my_dict[key])\n",
    "\n",
    "for key, value in my_dict.items():\n",
    "    print(f\"{key}: {value}\")\n",
    "\n",
    "# 6. Using Dictionaries in Functions\n",
    "def update_age(person_dict, new_age):\n",
    "    person_dict[\"age\"] = new_age\n",
    "    return person_dict\n",
    "\n",
    "updated_dict = update_age(my_dict, 30)\n",
    "print(\"Updated Dictionary with New Age:\", updated_dict)\n"
   ]
  },
  {
   "cell_type": "markdown",
   "id": "89b13c8b",
   "metadata": {},
   "source": [
    "### 2) - Demo for NumPy Functions"
   ]
  },
  {
   "cell_type": "code",
   "execution_count": 15,
   "id": "94cc8ccb",
   "metadata": {},
   "outputs": [
    {
     "name": "stdout",
     "output_type": "stream",
     "text": [
      "2\n"
     ]
    }
   ],
   "source": [
    "import numpy as np\n",
    "np.array([1,2,3]) # a faster \"list\"\n",
    "x = np.random.choice([1,2,3])\n",
    "print(x)"
   ]
  },
  {
   "cell_type": "markdown",
   "id": "16557867",
   "metadata": {},
   "source": [
    "### 3) - Demo for Loops"
   ]
  },
  {
   "cell_type": "code",
   "execution_count": 8,
   "id": "ac1a3b36",
   "metadata": {},
   "outputs": [
    {
     "name": "stdout",
     "output_type": "stream",
     "text": [
      "2\n",
      "3\n",
      "4\n",
      "5\n",
      "15\n",
      "7\n",
      "Index: 0 of list is element 2\n",
      "Index: 1 of list is element 3\n",
      "Index: 2 of list is element 4\n",
      "Index: 3 of list is element 5\n",
      "Index: 4 of list is element 15\n",
      "Index: 5 of list is element 7\n"
     ]
    }
   ],
   "source": [
    "a_list = [2, 3, 4, 5, 15, 7]\n",
    "# for i in range(len(a_list)):\n",
    "#     print(\"Index: \" + str(i) + \" of list is element \" + str(a_list[i]))\n",
    "\n",
    "# for x in a_list:\n",
    "#     print(x) #Does not have direct access to the index\n",
    "\n",
    "for i,x in enumerate(a_list):\n",
    "    print(\"Index: \" + str(i) + \" of list is element \" + str(x))"
   ]
  },
  {
   "cell_type": "markdown",
   "id": "4be8ed51",
   "metadata": {},
   "source": [
    "### 3) - Demo for If/Else Statements"
   ]
  },
  {
   "cell_type": "code",
   "execution_count": 27,
   "id": "866416c8",
   "metadata": {},
   "outputs": [
    {
     "name": "stdout",
     "output_type": "stream",
     "text": [
      "10 is even.\n",
      "7 is odd.\n",
      "4 is even.\n",
      "15 is odd.\n",
      "8 is even.\n",
      "23 is odd.\n",
      "42 is even.\n"
     ]
    }
   ],
   "source": [
    "# Function to check if a number is even\n",
    "def check_even(number):\n",
    "    if number % 2 == 0:\n",
    "        print(f\"{number} is even.\")\n",
    "    else:\n",
    "        print(f\"{number} is odd.\")\n",
    "\n",
    "# Test the function with individual examples\n",
    "check_even(10)  # 10 is even\n",
    "check_even(7)   # 7 is odd\n",
    "\n",
    "# List of numbers to check\n",
    "numbers = [4, 15, 8, 23, 42]\n",
    "\n",
    "# Loop through the list and check each number\n",
    "for num in numbers:\n",
    "    check_even(num)\n"
   ]
  },
  {
   "cell_type": "code",
   "execution_count": 29,
   "id": "d9cfb02869afc350",
   "metadata": {
    "ExecuteTime": {
     "end_time": "2024-05-15T21:54:31.981069Z",
     "start_time": "2024-05-15T21:54:30.771611Z"
    }
   },
   "outputs": [
    {
     "data": {
      "text/plain": [
       "66712"
      ]
     },
     "execution_count": 29,
     "metadata": {},
     "output_type": "execute_result"
    }
   ],
   "source": [
    "# Monte Hall Simulation Code -- not the only way to code this, but it's what Prof. Schwartz came up with...\n",
    "\n",
    "import numpy as np\n",
    "all_door_options = (1,2,3)  # tuple\n",
    "my_door_choice = 1  # 1,2,3\n",
    "i_won = 0\n",
    "reps = 100000\n",
    "for i in range(reps):\n",
    "    secret_winning_door = np.random.choice(all_door_options)\n",
    "    all_door_options_list = list(all_door_options)\n",
    "    # take the secret_winning_door, so we don't show it as a \"goat\" losing door\n",
    "    all_door_options_list.remove(secret_winning_door)\n",
    "    try:\n",
    "        # if my_door_choice was secret_winning_door then it's already removed\n",
    "        all_door_options_list.remove(my_door_choice)\n",
    "    except:\n",
    "        pass\n",
    "    # show a \"goat\" losing door and remove it\n",
    "    goat_door_reveal = np.random.choice(all_door_options_list)\n",
    "    all_door_options_list.remove(goat_door_reveal)\n",
    "\n",
    "    # put the secret_winning_door back in if it wasn't our choice\n",
    "    # we previously removed it, so it would be shown as a  \"goat\" losing door\n",
    "    if secret_winning_door != my_door_choice:\n",
    "        all_door_options_list.append(secret_winning_door)\n",
    "    # if secret_winning_door was our choice then all that's left in the list is a \"goat\" losing door\n",
    "    # if secret_winning_door wasn't our choice then it's all that will be left in the list\n",
    "\n",
    "    # swap strategy\n",
    "    my_door_choice = all_door_options_list[0]\n",
    "\n",
    "    if my_door_choice == secret_winning_door:\n",
    "        i_won += 1\n",
    "\n",
    "i_won"
   ]
  },
  {
   "cell_type": "markdown",
   "id": "b1985697e415697b",
   "metadata": {},
   "source": [
    "## 💬 🗣️ Communication [40 minutes]\n",
    "\n",
    "    \n",
    "#### 1. **[5 of the 40 minutes]** Quickly execute the \"rule of 5\" and take 5 minutes to break into 5 new groups of about 5 students and assign the following 5 questions to the 5 groups (and note that this instruction uses fives 5's 😉). Consider allowing students to preferentially select which group they join by calling for volunteers for each prompt, and feel free to use 5 minutes from the next (dicussion) sections doing so if you choose to (since this could be viewed as being a part of the \"discussion\").\n",
    "\n",
    "> *For each of the prompts, groups should consider the pros and cons of two options, the potential impact of a decision to persue one of the options, and how they take into account how uncertainty influences their thinking about the options.<br><br>*\n",
    ">\n",
    "> <details class=\"details-example\"><summary style=\"color:blue\"><u>Further Guidance</u></summary>\n",
    ">     \n",
    "> I asked a ChatBot to create a group activity for you that was related to decision-making under uncertainty using probability, and it produced the following questions. \n",
    "> \n",
    "> *This is a little bit like one of the ideas in the \"Afterward\" of HW01 asking a ChatBot to suggest and explain some other, perhaps less well-known \"unintuitive surprising statistics paradoxes\" (besides the \"World War 2 Plane\" and \"Monte Hall\" problems)*\n",
    ">\n",
    "> </details>\n",
    "\n",
    "1. **Stock Investment Strategy:** Students are investors trying to maximize their returns in the stock market. They must decide between two investment strategies: \"diversified portfolio\" or \"focused portfolio.\" Each strategy has different probabilities of success based on market conditions.<br><br>\n",
    "    \n",
    "    1. Diversified Portfolio: Spread investments across multiple industries.\n",
    "    2. Focused Portfolio: Concentrate investments in a few high-potential stocks.<br><br>\n",
    "        \n",
    "2. **Healthcare Treatment Decision:** Students are healthcare professionals deciding between two treatment options for a patient's condition. Each treatment has different success rates and potential side effects.<br><br>\n",
    "    \n",
    "    1. Treatment A: High success rate but moderate side effects.\n",
    "    2. Treatment B: Lower success rate but minimal side effects.<br><br>\n",
    "        \n",
    "3. **Sports Team Strategy:** Students are coaches of a sports team planning their game strategy. They must decide between two tactics: \"offensive strategy\" or \"defensive strategy.\" Each strategy has different probabilities of winning based on the opponent's strengths and weaknesses.<br><br>\n",
    "    \n",
    "    1. Offensive Strategy: Focus on scoring goals/points aggressively.\n",
    "    2. Defensive Strategy: Prioritize defense to prevent the opponent from scoring.<br><br>\n",
    "        \n",
    "4. **Career Path Decision:** Students are recent graduates deciding between two career paths: \"corporate job\" or \"entrepreneurship.\" Each path has different probabilities of success and factors to consider, such as job security, income potential, and work-life balance.<br><br>\n",
    "    \n",
    "    1. Corporate Job: Stable income but limited growth opportunities.\n",
    "    2. Entrepreneurship: Higher potential for success but greater risk and uncertainty.<br><br>\n",
    "        \n",
    "5. **Environmental Conservation Strategy:** Students are environmental activists advocating for conservation efforts in a wildlife reserve. They must decide between two conservation strategies: \"habitat preservation\" or \"species reintroduction.\" Each strategy has different probabilities of achieving long-term sustainability for the ecosystem.<br><br>\n",
    "    \n",
    "    1. Habitat Preservation: Protect existing habitats from human encroachment.\n",
    "    2. Species Reintroduction: Reintroduce endangered species to restore ecological balance.\n",
    "\n",
    "\n",
    "#### 2. **[15 to 20 of the 40 minutes]** Each group plans and prepares a brief (approximately 3 minute) summary (a) introducing their problem context and (b) outlining their decision and the rationale behind it. The group presentations should address\n",
    "\n",
    "1. the expected outcomes of their decision\n",
    "2. the risks involved\n",
    "3. and why they believe their choice is the best in light of their characterization of the degree uncertainty present in their context \n",
    "\n",
    "#### 3. **[15 to 20 of the 40 minutes]** Each group gives their (approximately 3 minute) planned presentation. If time permits, engaging in some (students or TA) Q&A seeking clarification or challenging group decisions would be ideal.\n",
    "\n",
    "Groups who manage to plan a presentation where multiple group members actively part of the presentation should be awarded \"gold stars\", figuratively, of course, since actualy gold, or stars, of gold star stickers are unfortunately momentarily in short supply"
   ]
  }
 ],
 "metadata": {
  "kernelspec": {
   "display_name": "Python 3 (ipykernel)",
   "language": "python",
   "name": "python3"
  },
  "language_info": {
   "codemirror_mode": {
    "name": "ipython",
    "version": 3
   },
   "file_extension": ".py",
   "mimetype": "text/x-python",
   "name": "python",
   "nbconvert_exporter": "python",
   "pygments_lexer": "ipython3",
   "version": "3.11.6"
  }
 },
 "nbformat": 4,
 "nbformat_minor": 5
}
