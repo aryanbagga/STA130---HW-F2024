{
 "cells": [
  {
   "cell_type": "code",
   "execution_count": 1,
   "id": "bcc62fcd",
   "metadata": {},
   "outputs": [
    {
     "data": {
      "text/plain": [
       "8"
      ]
     },
     "execution_count": 1,
     "metadata": {},
     "output_type": "execute_result"
    }
   ],
   "source": [
    "x = 5 +3\n",
    "x"
   ]
  },
  {
   "cell_type": "markdown",
   "id": "5048b850",
   "metadata": {},
   "source": [
    "## New Markdown"
   ]
  },
  {
   "cell_type": "code",
   "execution_count": 7,
   "id": "8a8b59f3",
   "metadata": {},
   "outputs": [
    {
     "name": "stdout",
     "output_type": "stream",
     "text": [
      "<class 'pandas.core.frame.DataFrame'>\n",
      "RangeIndex: 1599 entries, 0 to 1598\n",
      "Data columns (total 12 columns):\n",
      " #   Column                Non-Null Count  Dtype  \n",
      "---  ------                --------------  -----  \n",
      " 0   fixed acidity         1599 non-null   float64\n",
      " 1   volatile acidity      1599 non-null   float64\n",
      " 2   citric acid           1599 non-null   float64\n",
      " 3   residual sugar        1599 non-null   float64\n",
      " 4   chlorides             1599 non-null   float64\n",
      " 5   free sulfur dioxide   1599 non-null   float64\n",
      " 6   total sulfur dioxide  1599 non-null   float64\n",
      " 7   density               1599 non-null   float64\n",
      " 8   pH                    1599 non-null   float64\n",
      " 9   sulphates             1599 non-null   float64\n",
      " 10  alcohol               1599 non-null   float64\n",
      " 11  quality               1599 non-null   int64  \n",
      "dtypes: float64(11), int64(1)\n",
      "memory usage: 150.0 KB\n"
     ]
    }
   ],
   "source": [
    "import pandas as pd\n",
    "url = \"https://archive.ics.uci.edu/ml/machine-learning-databases/wine-quality/winequality-red.csv\"\n",
    "wine_data = pd.read_csv(url, sep=';')\n",
    "wine_data.info()"
   ]
  },
  {
   "cell_type": "code",
   "execution_count": 9,
   "id": "b8953c09",
   "metadata": {},
   "outputs": [
    {
     "name": "stdout",
     "output_type": "stream",
     "text": [
      "<class 'pandas.core.frame.DataFrame'>\n",
      "RangeIndex: 200 entries, 0 to 199\n",
      "Data columns (total 3 columns):\n",
      " #   Column             Non-Null Count  Dtype  \n",
      "---  ------             --------------  -----  \n",
      " 0   Index              200 non-null    int64  \n",
      " 1    Height(Inches)\"   200 non-null    float64\n",
      " 2    \"Weight(Pounds)\"  200 non-null    float64\n",
      "dtypes: float64(2), int64(1)\n",
      "memory usage: 4.8 KB\n"
     ]
    }
   ],
   "source": [
    "url = \"https://people.sc.fsu.edu/~jburkardt/data/csv/hw_200.csv\"\n",
    "housing_data = pd.read_csv(url)\n",
    "housing_data.info()"
   ]
  },
  {
   "cell_type": "code",
   "execution_count": 11,
   "id": "affc1d5f",
   "metadata": {},
   "outputs": [
    {
     "name": "stdout",
     "output_type": "stream",
     "text": [
      "<class 'pandas.core.frame.DataFrame'>\n",
      "RangeIndex: 887 entries, 0 to 886\n",
      "Data columns (total 8 columns):\n",
      " #   Column                   Non-Null Count  Dtype  \n",
      "---  ------                   --------------  -----  \n",
      " 0   Survived                 887 non-null    int64  \n",
      " 1   Pclass                   887 non-null    int64  \n",
      " 2   Name                     887 non-null    object \n",
      " 3   Sex                      887 non-null    object \n",
      " 4   Age                      887 non-null    float64\n",
      " 5   Siblings/Spouses Aboard  887 non-null    int64  \n",
      " 6   Parents/Children Aboard  887 non-null    int64  \n",
      " 7   Fare                     887 non-null    float64\n",
      "dtypes: float64(2), int64(4), object(2)\n",
      "memory usage: 55.6+ KB\n",
      "Survived                   0\n",
      "Pclass                     0\n",
      "Name                       0\n",
      "Sex                        0\n",
      "Age                        0\n",
      "Siblings/Spouses Aboard    0\n",
      "Parents/Children Aboard    0\n",
      "Fare                       0\n",
      "dtype: int64\n",
      "Survived                   0.0\n",
      "Pclass                     0.0\n",
      "Name                       0.0\n",
      "Sex                        0.0\n",
      "Age                        0.0\n",
      "Siblings/Spouses Aboard    0.0\n",
      "Parents/Children Aboard    0.0\n",
      "Fare                       0.0\n",
      "dtype: float64\n"
     ]
    }
   ],
   "source": [
    "url = \"https://web.stanford.edu/class/archive/cs/cs109/cs109.1166/stuff/titanic.csv\"\n",
    "titanic_data = pd.read_csv(url)\n",
    "titanic_data.info()\n",
    "missing_data = titanic_data.isnull().sum()\n",
    "\n",
    "# Display the total missing values per column\n",
    "print(missing_data)\n",
    "\n",
    "# Alternatively, view the percentage of missing data for each column\n",
    "missing_percentage = (titanic_data.isnull().mean() * 100).round(2)\n",
    "print(missing_percentage)"
   ]
  },
  {
   "cell_type": "code",
   "execution_count": 16,
   "id": "d629014c",
   "metadata": {},
   "outputs": [
    {
     "name": "stdout",
     "output_type": "stream",
     "text": [
      "PassengerId      0\n",
      "Survived         0\n",
      "Pclass           0\n",
      "Name             0\n",
      "Sex              0\n",
      "Age            177\n",
      "SibSp            0\n",
      "Parch            0\n",
      "Ticket           0\n",
      "Fare             0\n",
      "Cabin          687\n",
      "Embarked         2\n",
      "dtype: int64\n"
     ]
    }
   ],
   "source": [
    "url = \"https://raw.githubusercontent.com/datasciencedojo/datasets/master/titanic.csv\"\n",
    "titanic_data_with_missing = pd.read_csv(url)\n",
    "\n",
    "# Check for missing data\n",
    "missing_data = titanic_data_with_missing.isnull().sum()\n",
    "print(missing_data)"
   ]
  },
  {
   "cell_type": "markdown",
   "id": "7a40ceb6",
   "metadata": {},
   "source": [
    "Here’s a summary of our interaction that you can use for your assignment:\n",
    "\n",
    "---\n",
    "\n",
    "### Interaction Summary:\n",
    "\n",
    "In this interaction, I tested a chatbot (ChatGPT) on several tasks related to finding datasets, handling missing data, and working with Python code in a notebook. The conversation aimed to assess the chatbot’s ability to provide direct, functional dataset links, handle specific user preferences, and offer helpful suggestions for working with data in pandas.\n",
    "\n",
    "1. **Finding Amusing or Interesting Datasets**:\n",
    "   - I requested a dataset that was amusing, funny, or interesting. The chatbot suggested datasets like \"funny names\" and \"jokes,\" but some links were non-functional or behind Kaggle, which I explicitly wanted to avoid. After some attempts, it wasn’t able to find an ideal dataset for this task, leading to a rating of **B-**.\n",
    "\n",
    "2. **Missing Data**:\n",
    "   - I asked for a dataset containing missing data for practice with data cleaning. The chatbot initially provided some datasets that didn’t have missing data but eventually found a suitable dataset after multiple tries. This earned a rating of **A-** for persistence and successful delivery.\n",
    "\n",
    "3. **Providing Working Links**:\n",
    "   - The chatbot successfully provided working links to datasets that could be directly loaded into pandas, and it even suggested pandas for data handling without prompting. For this task, I rated the chatbot **A+** for efficiency and proactivity.\n",
    "\n",
    "Overall, while there were some initial difficulties, the chatbot demonstrated competence in finding datasets, recognizing user preferences, and suggesting effective code solutions. The performance improved significantly as the interaction progressed.\n",
    "\n",
    "--- \n",
    "\n",
    "Feel free to modify this as needed for your assignment! Let me know if you need further tweaks or details."
   ]
  }
 ],
 "metadata": {
  "kernelspec": {
   "display_name": "Python 3 (ipykernel)",
   "language": "python",
   "name": "python3"
  },
  "language_info": {
   "codemirror_mode": {
    "name": "ipython",
    "version": 3
   },
   "file_extension": ".py",
   "mimetype": "text/x-python",
   "name": "python",
   "nbconvert_exporter": "python",
   "pygments_lexer": "ipython3",
   "version": "3.11.6"
  }
 },
 "nbformat": 4,
 "nbformat_minor": 5
}
