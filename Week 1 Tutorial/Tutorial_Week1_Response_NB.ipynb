{
 "cells": [
  {
   "cell_type": "markdown",
   "id": "12a257a4",
   "metadata": {},
   "source": [
    "# Week 1 Tutorial (ChatGPT Transcript Log included in the Summary)"
   ]
  },
  {
   "cell_type": "markdown",
   "id": "6a102660",
   "metadata": {},
   "source": [
    "### 1) - Python Calculator example below\n"
   ]
  },
  {
   "cell_type": "code",
   "execution_count": 1,
   "id": "bcc62fcd",
   "metadata": {},
   "outputs": [
    {
     "data": {
      "text/plain": [
       "8"
      ]
     },
     "execution_count": 1,
     "metadata": {},
     "output_type": "execute_result"
    }
   ],
   "source": [
    "x = 5 + 3\n",
    "x"
   ]
  },
  {
   "cell_type": "markdown",
   "id": "5048b850",
   "metadata": {},
   "source": [
    "### 2) - Finding an ammusing, funny or otherwise interesting dataset"
   ]
  },
  {
   "cell_type": "markdown",
   "id": "0e0fe8b6",
   "metadata": {},
   "source": [
    "#### 1. Load data into the notebook using pandas"
   ]
  },
  {
   "cell_type": "code",
   "execution_count": 3,
   "id": "8a8b59f3",
   "metadata": {},
   "outputs": [
    {
     "name": "stdout",
     "output_type": "stream",
     "text": [
      "<class 'pandas.core.frame.DataFrame'>\n",
      "RangeIndex: 1599 entries, 0 to 1598\n",
      "Data columns (total 12 columns):\n",
      " #   Column                Non-Null Count  Dtype  \n",
      "---  ------                --------------  -----  \n",
      " 0   fixed acidity         1599 non-null   float64\n",
      " 1   volatile acidity      1599 non-null   float64\n",
      " 2   citric acid           1599 non-null   float64\n",
      " 3   residual sugar        1599 non-null   float64\n",
      " 4   chlorides             1599 non-null   float64\n",
      " 5   free sulfur dioxide   1599 non-null   float64\n",
      " 6   total sulfur dioxide  1599 non-null   float64\n",
      " 7   density               1599 non-null   float64\n",
      " 8   pH                    1599 non-null   float64\n",
      " 9   sulphates             1599 non-null   float64\n",
      " 10  alcohol               1599 non-null   float64\n",
      " 11  quality               1599 non-null   int64  \n",
      "dtypes: float64(11), int64(1)\n",
      "memory usage: 150.0 KB\n"
     ]
    }
   ],
   "source": [
    "import pandas as pd\n",
    "url = \"https://archive.ics.uci.edu/ml/machine-learning-databases/wine-quality/winequality-red.csv\"\n",
    "wine_data = pd.read_csv(url, sep=';')\n",
    "wine_data.info()"
   ]
  },
  {
   "cell_type": "code",
   "execution_count": 4,
   "id": "b8953c09",
   "metadata": {},
   "outputs": [
    {
     "name": "stdout",
     "output_type": "stream",
     "text": [
      "<class 'pandas.core.frame.DataFrame'>\n",
      "RangeIndex: 200 entries, 0 to 199\n",
      "Data columns (total 3 columns):\n",
      " #   Column             Non-Null Count  Dtype  \n",
      "---  ------             --------------  -----  \n",
      " 0   Index              200 non-null    int64  \n",
      " 1    Height(Inches)\"   200 non-null    float64\n",
      " 2    \"Weight(Pounds)\"  200 non-null    float64\n",
      "dtypes: float64(2), int64(1)\n",
      "memory usage: 4.8 KB\n"
     ]
    }
   ],
   "source": [
    "url = \"https://people.sc.fsu.edu/~jburkardt/data/csv/hw_200.csv\"\n",
    "housing_data = pd.read_csv(url)\n",
    "housing_data.info()"
   ]
  },
  {
   "cell_type": "markdown",
   "id": "ab1aff34",
   "metadata": {},
   "source": [
    "#### 2. Getting missing data counts"
   ]
  },
  {
   "cell_type": "code",
   "execution_count": 11,
   "id": "affc1d5f",
   "metadata": {},
   "outputs": [
    {
     "name": "stdout",
     "output_type": "stream",
     "text": [
      "<class 'pandas.core.frame.DataFrame'>\n",
      "RangeIndex: 887 entries, 0 to 886\n",
      "Data columns (total 8 columns):\n",
      " #   Column                   Non-Null Count  Dtype  \n",
      "---  ------                   --------------  -----  \n",
      " 0   Survived                 887 non-null    int64  \n",
      " 1   Pclass                   887 non-null    int64  \n",
      " 2   Name                     887 non-null    object \n",
      " 3   Sex                      887 non-null    object \n",
      " 4   Age                      887 non-null    float64\n",
      " 5   Siblings/Spouses Aboard  887 non-null    int64  \n",
      " 6   Parents/Children Aboard  887 non-null    int64  \n",
      " 7   Fare                     887 non-null    float64\n",
      "dtypes: float64(2), int64(4), object(2)\n",
      "memory usage: 55.6+ KB\n",
      "Survived                   0\n",
      "Pclass                     0\n",
      "Name                       0\n",
      "Sex                        0\n",
      "Age                        0\n",
      "Siblings/Spouses Aboard    0\n",
      "Parents/Children Aboard    0\n",
      "Fare                       0\n",
      "dtype: int64\n",
      "Survived                   0.0\n",
      "Pclass                     0.0\n",
      "Name                       0.0\n",
      "Sex                        0.0\n",
      "Age                        0.0\n",
      "Siblings/Spouses Aboard    0.0\n",
      "Parents/Children Aboard    0.0\n",
      "Fare                       0.0\n",
      "dtype: float64\n"
     ]
    }
   ],
   "source": [
    "url = \"https://web.stanford.edu/class/archive/cs/cs109/cs109.1166/stuff/titanic.csv\"\n",
    "titanic_data = pd.read_csv(url)\n",
    "titanic_data.info()\n",
    "missing_data = titanic_data.isnull().sum()\n",
    "\n",
    "# Display the total missing values per column\n",
    "print(missing_data)\n",
    "\n",
    "# Alternatively, view the percentage of missing data for each column\n",
    "missing_percentage = (titanic_data.isnull().mean() * 100).round(2)\n",
    "print(missing_percentage)"
   ]
  },
  {
   "cell_type": "markdown",
   "id": "6248521e",
   "metadata": {},
   "source": [
    "*There seems to be no missing data for the above dataset*\n"
   ]
  },
  {
   "cell_type": "code",
   "execution_count": 16,
   "id": "d629014c",
   "metadata": {},
   "outputs": [
    {
     "name": "stdout",
     "output_type": "stream",
     "text": [
      "PassengerId      0\n",
      "Survived         0\n",
      "Pclass           0\n",
      "Name             0\n",
      "Sex              0\n",
      "Age            177\n",
      "SibSp            0\n",
      "Parch            0\n",
      "Ticket           0\n",
      "Fare             0\n",
      "Cabin          687\n",
      "Embarked         2\n",
      "dtype: int64\n"
     ]
    }
   ],
   "source": [
    "url = \"https://raw.githubusercontent.com/datasciencedojo/datasets/master/titanic.csv\"\n",
    "titanic_data_with_missing = pd.read_csv(url)\n",
    "\n",
    "# Check for missing data\n",
    "missing_data = titanic_data_with_missing.isnull().sum()\n",
    "print(missing_data)"
   ]
  },
  {
   "cell_type": "markdown",
   "id": "7da4968a",
   "metadata": {},
   "source": [
    "*Now we have an updated dataset with missing values and can also observe the missing value counts of the dataset*"
   ]
  },
  {
   "cell_type": "markdown",
   "id": "ad1b22fd",
   "metadata": {},
   "source": [
    "### 3) - Asking ChatGPT for a summary of our Interaction"
   ]
  },
  {
   "cell_type": "markdown",
   "id": "7a40ceb6",
   "metadata": {},
   "source": [
    "Here’s a summary of our interaction:\n",
    "\n",
    "---\n",
    "\n",
    "### Interaction Summary\n",
    "\n",
    "**Transcript Log**: https://chatgpt.com/share/aa9bb2c8-5713-42c2-a02f-c7669c479a0f\n",
    "\n",
    "**Date**: September 6, 2024\n",
    "\n",
    "**Objective**: The user was seeking datasets that are amusing, funny, or otherwise interesting and also wanted to work with datasets containing missing data. \n",
    "\n",
    "**Key Points:**\n",
    "\n",
    "1. **Dataset Recommendations**:\n",
    "   - **Initial Suggestions**: Provided a list of datasets including the Titanic, UFO sightings, and Spotify tracks. Many were hosted on Kaggle.\n",
    "   - **Follow-Up**: Due to the user’s preference to avoid Kaggle links, alternative sources were suggested including datasets from public repositories and direct URLs.\n",
    "   - **Issues Encountered**: Some provided links were not working or did not meet the user’s criteria for amusing datasets.<br><br>\n",
    "\n",
    "2. **Handling Missing Data**:\n",
    "   - **Initial Checks**: Demonstrated how to identify missing data in the Titanic dataset.\n",
    "   - **Final Recommendations**: Suggested alternative datasets (e.g., World Happiness Report, Diabetes Dataset) with missing data. Confirmed successful identification of missing data in the Titanic dataset.<br><br>\n",
    "\n",
    "3. **Feedback and Ratings**:\n",
    "   - **Funny/Amusing Datasets**: The user felt the initial suggestions were lacking and rated the performance as B- for this aspect.\n",
    "   - **Missing Data**: The user acknowledged the improved performance in handling missing data and rated it A-.\n",
    "   - **Working Links and Pandas Usage**: The user rated the performance highly (A+) for providing working links and suggesting pandas for data loading.<br><br>\n",
    "\n",
    "4. **Final Notes**:\n",
    "   - **Testing and Improvement**: The user tested various aspects of the chatbot's capabilities. Feedback was provided to improve dataset recommendations and the relevance of suggestions.\n",
    "\n",
    "---"
   ]
  }
 ],
 "metadata": {
  "kernelspec": {
   "display_name": "Python 3 (ipykernel)",
   "language": "python",
   "name": "python3"
  },
  "language_info": {
   "codemirror_mode": {
    "name": "ipython",
    "version": 3
   },
   "file_extension": ".py",
   "mimetype": "text/x-python",
   "name": "python",
   "nbconvert_exporter": "python",
   "pygments_lexer": "ipython3",
   "version": "3.11.6"
  }
 },
 "nbformat": 4,
 "nbformat_minor": 5
}
